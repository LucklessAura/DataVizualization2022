{
 "cells": [
  {
   "cell_type": "code",
   "execution_count": 3,
   "metadata": {},
   "outputs": [],
   "source": [
    "fileObj = open(\"./tus_00age_linear.csv\",\"r\")\n",
    "resultFile = open(\"./removedUnnecessary.csv\",\"w\")\n",
    "\n",
    "while line := fileObj.readline():\n",
    "    dataNeeded = line.split(\",\")\n",
    "    dataNeeded = \",\".join(dataNeeded[3:-1])\n",
    "    \n",
    "    resultFile.write(dataNeeded + \"\\n\")\n",
    "\n",
    "resultFile.close()\n",
    "fileObj.close()"
   ]
  },
  {
   "cell_type": "code",
   "execution_count": 6,
   "metadata": {},
   "outputs": [],
   "source": [
    "fileObj = open(\"./removedUnnecessary.csv\",\"r\")\n",
    "period_2000 = open(\"./period_2000.csv\",\"w\")\n",
    "period_2010 = open(\"./period_2010.csv\",\"w\")\n",
    "period_2010.write(\"unit,sex,age,acl00,geo,TIME_PERIOD,OBS_VALUE\\n\")\n",
    "while line := fileObj.readline():\n",
    "    split = line.split(\",\")\n",
    "    if split[5].strip() == \"2010\":\n",
    "        period_2010.write(line)\n",
    "    else:\n",
    "        period_2000.write(line) \n",
    "\n",
    "period_2000.close()\n",
    "period_2010.close()\n",
    "fileObj.close()"
   ]
  },
  {
   "cell_type": "code",
   "execution_count": 32,
   "metadata": {},
   "outputs": [],
   "source": [
    "files :\"list[str]\" = [\"period_2000.csv\",\"period_2010.csv\"]\n",
    "\n",
    "for file in files:\n",
    "    fileObj = open(file,\"r\")\n",
    "\n",
    "    data = fileObj.readlines()\n",
    "    newData = [\",\".join(data[0].split(\",\")[1:-1]).strip() + \",PTP_RT,PTP_TIME,TIME_SP\\n\"]\n",
    "    data.pop(0)\n",
    "    for i in range(0,len(data),3):\n",
    "        remaining = data[i].split(\",\")[1:]\n",
    "        remaining[-1] = remaining[-1].strip()\n",
    "        remaining.append(data[i+1].split(\",\")[-1].strip())\n",
    "        remaining.append(data[i+2].split(\",\")[-1].strip())\n",
    "        remaining[-1] +=\"\\n\"\n",
    "        newData.append(\",\".join(remaining))\n",
    "    fileObj.close()\n",
    "\n",
    "    newFile = file.split(\".\")\n",
    "    fileObj = open(newFile[0] + \"_rearranged.\" + newFile[1],\"w\")\n",
    "    fileObj.writelines(newData)\n",
    "    fileObj.close()\n",
    "\n"
   ]
  }
 ],
 "metadata": {
  "interpreter": {
   "hash": "5992bcc77f61ae51bab47ba2dd5d93b4c7b635c5eaedc7049994d1c8da8f6667"
  },
  "kernelspec": {
   "display_name": "Python 3.8.12 ('DEF')",
   "language": "python",
   "name": "python3"
  },
  "language_info": {
   "codemirror_mode": {
    "name": "ipython",
    "version": 3
   },
   "file_extension": ".py",
   "mimetype": "text/x-python",
   "name": "python",
   "nbconvert_exporter": "python",
   "pygments_lexer": "ipython3",
   "version": "3.8.12"
  },
  "orig_nbformat": 4
 },
 "nbformat": 4,
 "nbformat_minor": 2
}
